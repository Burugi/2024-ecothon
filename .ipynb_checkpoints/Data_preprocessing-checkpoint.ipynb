{
 "cells": [
  {
   "cell_type": "markdown",
   "id": "806ef61c-7192-411f-a1a5-737d6156423b",
   "metadata": {},
   "source": [
    "# Data Preprocessing"
   ]
  },
  {
   "cell_type": "markdown",
   "id": "b6e9c68b-004c-484d-a906-68365232204c",
   "metadata": {},
   "source": [
    "## 서울교통공사_승하차_인원수20221231.csv \"총 승객수\" column만 남기기"
   ]
  },
  {
   "cell_type": "code",
   "execution_count": 2,
   "id": "707672a4-ebcb-484e-88ce-42a0e744f451",
   "metadata": {},
   "outputs": [],
   "source": [
    "import pandas as pd\n",
    "\n",
    "# CSV 파일 읽기\n",
    "passenger_df = pd.read_csv('서울교통공사_승하차_인원수20221231.csv', encoding='euc-kr')\n",
    "\n",
    "# \"승차총승객수\"와 \"하차총승객수\"를 더하여 \"총 승객수\" 컬럼 생성\n",
    "passenger_df['총 승객수'] = passenger_df['승차총승객수'] + passenger_df['하차총승객수']\n",
    "\n",
    "# \"역명\"별로 \"총 승객수\" 집계\n",
    "total_passengers_by_station = passenger_df.groupby('역명')['총 승객수'].sum().reset_index()\n",
    "\n",
    "# 결과를 같은 파일 이름으로 저장\n",
    "total_passengers_by_station.to_csv('서울교통공사_승하차_인원수20221231.csv', index=False, encoding='utf-8-sig')"
   ]
  },
  {
   "cell_type": "code",
   "execution_count": null,
   "id": "e6ffabf8-3c16-49cd-9b6f-0e442a8b4a48",
   "metadata": {},
   "outputs": [],
   "source": []
  },
  {
   "cell_type": "markdown",
   "id": "e7d8e6bf-505b-4233-98e7-11197647ea45",
   "metadata": {},
   "source": [
    "## 서울교통공사_승하차_인원수20221231.csv 소괄호 제거"
   ]
  },
  {
   "cell_type": "code",
   "execution_count": 3,
   "id": "8ece5cab-abc5-435e-9329-99d05d2430cd",
   "metadata": {},
   "outputs": [],
   "source": [
    "# CSV 파일 읽기\n",
    "passenger_df = pd.read_csv('서울교통공사_승하차_인원수20221231.csv')\n",
    "\n",
    "# \"역명\" 컬럼에서 괄호와 그 안의 내용을 제거\n",
    "passenger_df['역명'] = passenger_df['역명'].str.replace(r'\\(.*\\)', '', regex=True)\n",
    "\n",
    "# 결과를 새로운 CSV 파일로 저장\n",
    "passenger_df.to_csv('서울교통공사_승하차_인원수20221231_cleaned_v2.csv', index=False, encoding='utf-8-sig')"
   ]
  },
  {
   "cell_type": "markdown",
   "id": "17a925b7-1a94-453c-9aac-5f3622bbe52c",
   "metadata": {},
   "source": [
    "## 서울교통공사_지하역사_공기질_측정_정보_20221231.csv 소괄호 제거"
   ]
  },
  {
   "cell_type": "code",
   "execution_count": 7,
   "id": "31315d2c-997b-4b5b-b97e-34adddfbdf69",
   "metadata": {},
   "outputs": [],
   "source": [
    "# CSV 파일 읽기\n",
    "passenger_df = pd.read_csv('서울교통공사_지하역사_공기질_측정_정보_20221231.csv', encoding='euc-kr')\n",
    "\n",
    "# \"역명\" 컬럼에서 괄호와 그 안의 내용을 제거\n",
    "passenger_df['역명'] = passenger_df['역명'].str.replace(r'\\(.*\\)', '', regex=True)\n",
    "\n",
    "# 결과를 새로운 CSV 파일로 저장\n",
    "passenger_df.to_csv('서울교통공사_지하역사_공기질_측정_정보_20221231_cleaned_v2.csv', index=False, encoding='utf-8-sig')"
   ]
  },
  {
   "cell_type": "code",
   "execution_count": null,
   "id": "d8b92970-b1f4-4fab-a102-ee78e609d123",
   "metadata": {},
   "outputs": [],
   "source": []
  },
  {
   "cell_type": "markdown",
   "id": "e935634f-1c9f-42ec-aceb-2065985c78b5",
   "metadata": {},
   "source": [
    "## 공기질 파일, 승하차 파일: '서울역' -> '서울' 변경"
   ]
  },
  {
   "cell_type": "code",
   "execution_count": 8,
   "id": "42c10dd0-e397-487b-b20f-7e5bbbcd3fa7",
   "metadata": {},
   "outputs": [],
   "source": [
    "# CSV 파일 읽기\n",
    "air_quality_df = pd.read_csv('서울교통공사_지하역사_공기질_측정_정보_20221231_cleaned_v2.csv')\n",
    "passenger_df = pd.read_csv('서울교통공사_승하차_인원수20221231_cleaned_v2.csv')\n",
    "\n",
    "# '역명' 컬럼에서 '서울역' 값을 '서울'로 변경\n",
    "air_quality_df['역명'] = air_quality_df['역명'].str.replace('서울역', '서울')\n",
    "passenger_df['역명'] = passenger_df['역명'].str.replace('서울역', '서울')\n",
    "\n",
    "# 수정된 데이터를 다시 저장\n",
    "air_quality_df.to_csv('서울교통공사_지하역사_공기질_측정_정보_20221231_cleaned_v2.csv', index=False, encoding='utf-8-sig')\n",
    "passenger_df.to_csv('서울교통공사_승하차_인원수20221231_cleaned_v2.csv', index=False, encoding='utf-8-sig')"
   ]
  },
  {
   "cell_type": "code",
   "execution_count": null,
   "id": "dd35646f-b486-443c-992b-f45f1402f0d7",
   "metadata": {},
   "outputs": [],
   "source": []
  },
  {
   "cell_type": "code",
   "execution_count": 13,
   "id": "d0d8bce4-494d-4e28-ae64-909e7a91b9fd",
   "metadata": {},
   "outputs": [],
   "source": [
    "# CSV 파일을 읽어 데이터프레임으로 변환\n",
    "coordinate_df = pd.read_csv('서울교통공사_1_8호선_역사_좌표(위경도)정보_20231031.csv', encoding='euc-kr')\n",
    "air_quality_df = pd.read_csv('서울교통공사_지하역사_공기질_측정_정보_20221231_cleaned_v2.csv')\n",
    "passenger_df = pd.read_csv('서울교통공사_승하차_인원수20221231_cleaned_v2.csv')"
   ]
  },
  {
   "cell_type": "markdown",
   "id": "6afc8701-5b08-44e5-b4eb-4241f8c03345",
   "metadata": {},
   "source": [
    "## 역사_좌표(위경도) / 공기질 측정 정보 / 승하차 인원수 사이의 공통된 역명 확인"
   ]
  },
  {
   "cell_type": "code",
   "execution_count": 14,
   "id": "8a435dee-24fd-48c1-8550-6e9c9bc37425",
   "metadata": {},
   "outputs": [
    {
     "name": "stdout",
     "output_type": "stream",
     "text": [
      "세 파일 모두에 공통된 역명 값: {'도곡', '명동', '화랑대', '하계', '역촌', '천왕', '제기동', '여의나루', '무악재', '불광', '합정', '신도림', '발산', '마곡', '청량리', '을지로입구', '청담', '어린이대공원', '숙대입구', '남한산성입구', '광화문', '복정', '수유', '오목교', '광나루', '태릉입구', '대흥', '천호', '방이', '홍제', '선릉', '매봉', '방화', '단대오거리', '회현', '삼성', '길동', '강동구청', '안국', '강남구청', '구파발', '쌍문', '종로3가', '영등포시장', '종로5가', '공덕', '둔촌동', '내방', '석촌', '신풍', '이태원', '까치산', '송정', '송파', '숭실대입구', '봉화산', '신용산', '개롱', '이대', '신정네거리', '아차산', '상일동', '애오개', '거여', '동대문역사문화공원', '왕십리', '일원', '강동', '상봉', '남태령', '화곡', '디지털미디어시티', '면목', '수서', '보라매', '낙성대', '강일', '미사', '을지로4가', '먹골', '신금호', '독바위', '서울대입구', '홍대입구', '반포', '성신여대입구', '온수', '경찰병원', '신흥', '고려대', '공릉', '하남검단산', '광흥창', '압구정', '대치', '종각', '철산', '행당', '신당', '논현', '충무로', '상도', '수락산', '남구로', '오금', '신대방삼거리', '녹사평', '돌곶이', '용마산', '구산', '잠실새내', '양천구청', '총신대입구', '사가정', '여의도', '용두', '답십리', '장승배기', '장한평', '영등포구청', '잠원', '중계', '개화산', '하남시청', '효창공원앞', '신정', '대림', '한성대입구', '종합운동장', '우장산', '모란', '광명사거리', '마천', '길음', '고덕', '보문', '혜화', '굽은다리', '몽촌토성', '교대', '안암', '봉천', '문정', '양평', '도림천', '증산', '양재', '가산디지털단지', '상왕십리', '이촌', '중화', '하남풍산', '신림', '월드컵경기장', '목동', '아현', '동묘앞', '서초', '미아', '군자', '연신내', '강남', '버티고개', '미아사거리', '노원', '청구', '동대문', '학동', '신길', '을지로3가', '학여울', '서울', '창신', '석계', '대청', '마포구청', '삼각지', '건대입구', '금호', '고속터미널', '김포공항', '시청', '마장', '월곡', '서대문', '경복궁', '상월곡', '마들', '암사', '남부터미널', '마포', '문래', '중곡', '장지', '잠실', '충정로', '수진', '역삼', '올림픽공원', '명일', '망원', '독립문', '약수', '신설동', '상수', '방배', '응암', '산성', '동대입구', '남성', '가락시장', '새절', '한강진', '신사', '신촌', '사당', '녹번'}\n",
      "\n",
      "공기질 측정 파일에만 있는 역명 값: set()\n",
      "\n",
      "승하차 인원수 파일에만 있는 역명 값: {'보라매공원', '성환', '사릉', '매탄권선', '부평', '남춘천', '수리산', '파주', '병점', '압구정로데오', '구반포', '평택', '고색', '서현', '솔샘', '상갈', '고잔', '가좌', '초월', '사리', '연수', '대공원', '남영', '노량진', '선유도', '대화', '북한산우이', '청평', '망포', '명학', '삼동', '배방', '온양온천', '망월사', '춘천', '서빙고', '안산', '동두천', '오이도', '갈매', '가양', '인덕원', '개포동', '금천구청', '남동인더스파크', '신포', '백운', '송탄', '서울지방병무청', '봉명', '월곶', '야당', '수원시청', '성균관대', '도봉', '대성리', '미금', '수원', '반월', '동두천중앙', '4.19민주묘지', '풍산', '석수', '기흥', '문산', '가오리', '양천향교', '덕소', '야탑', '신둔도예촌', '제물포', '망우', '증미', '김유정', '소사', '노들', '신길온천', '인하대', '송내', '외대앞', '중앙', '염창', '수내', '양수', '신목동', '운서', '운길산', '삼양', '금촌', '강촌', '영등포', '판교', '오빈', '평택지제', '쌍용', '퇴계원', '녹양', '매교', '곤지암', '경마공원', '의왕', '원흥', '신갈', '광명', '천안', '태평', '숭의', '수색', '아신', '선바위', '탕정', '오리', '오류동', '부개', '공항시장', '과천', '한남', '검암', '마두', '서원', '죽전', '양정', '녹천', '구로', '화계', '굴봉산', '회기', '여주', '가능', '인천논현', '청라국제도시', '안양', '대야미', '광운대', '원덕', '소요산', '월계', '호구포', '초지', '구룡', '용문', '사평', '오산대', '서동탄', '덕정', '천마산', '구리', '아산', '주엽', '보정', '어천', '양주', '영통', '백양리', '송도', '곡산', '신이문', '금릉', '원당', '이천', '강매', '서정리', '구일', '한티', '청명', '삼양사거리', '샛강', '야목', '당정', '직산', '원인재', '운정', '금곡', '솔밭공원', '지행', '탄현', '한대앞', '개봉', '신원', '중랑', '신창', '도화', '상천', '마곡나루', '응봉', '가평', '오산', '보산', '계양', '오목천', '관악산', '정릉', '도원', '대방', '서울대벤처타운', '역곡', '동인천', '임진강', '정발산', '당곡', '덕계', '신논현', '국회의사당', '중동', '주안', '금정', '별내', '인천공항2터미널', '개화', '군포', '동암', '화서', '백석', '보라매병원', '백마', '능곡', '공항화물청사', '부천', '세마', '소래포구', '이매', '방학', '삼송', '산본', '영종', '서울숲', '관악', '부발', '평내호평', '독산', '정왕', '용산', '정부과천청사', '경기광주', '대모산입구', '일산', '두정', '마석', '팔당', '상록수', '회룡', '간석', '도심', '진위', '지평', '인천공항1터미널', '세종대왕릉', '세류', '국수', '화정', '평촌', '흑석', '가천대', '도농', '범계', '양원', '신방화', '달월', '행신', '구성', '서강대', '월롱', '등촌', '운천', '신반포', '대곡', '화전', '인천', '의정부', '북한산보국문', '정자'}\n",
      "\n",
      "좌표 파일에만 있는 역명 값: set()\n"
     ]
    }
   ],
   "source": [
    "# 각 데이터프레임에서 \"역명\" 값 추출\n",
    "coordinate_stations = set(coordinate_df['역명'])\n",
    "air_quality_stations = set(air_quality_df['역명'])\n",
    "passenger_stations = set(passenger_df['역명'])\n",
    "\n",
    "# 공통된 역명 확인\n",
    "common_stations_all = coordinate_stations & air_quality_stations & passenger_stations\n",
    "\n",
    "# 좌표 파일과 공기질 측정 파일 간의 공통된 역명 확인\n",
    "common_stations_coordinate_air_quality = coordinate_stations & air_quality_stations\n",
    "# 좌표 파일과 승하차 인원수 파일 간의 공통된 역명 확인\n",
    "common_stations_coordinate_passenger = coordinate_stations & passenger_stations\n",
    "# 공기질 측정 파일과 승하차 인원수 파일 간의 공통된 역명 확인\n",
    "common_stations_air_quality_passenger = air_quality_stations & passenger_stations\n",
    "\n",
    "# 공기질 측정 파일에만 있는 역명 값 확인\n",
    "air_quality_only_stations = air_quality_stations - (coordinate_stations | passenger_stations)\n",
    "# 승하차 인원수 파일에만 있는 역명 값 확인\n",
    "passenger_only_stations = passenger_stations - (coordinate_stations | air_quality_stations)\n",
    "# 좌표 파일에만 있는 역명 값 확인\n",
    "coordinate_only_stations = coordinate_stations - (air_quality_stations | passenger_stations)\n",
    "\n",
    "# 결과 출력\n",
    "print(\"세 파일 모두에 공통된 역명 값:\", common_stations_all)\n",
    "print()\n",
    "print(\"공기질 측정 파일에만 있는 역명 값:\", air_quality_only_stations)\n",
    "print()\n",
    "print(\"승하차 인원수 파일에만 있는 역명 값:\", passenger_only_stations)\n",
    "print()\n",
    "print(\"좌표 파일에만 있는 역명 값:\", coordinate_only_stations)\n"
   ]
  },
  {
   "cell_type": "markdown",
   "id": "7e2f32a6-cb4a-4f51-92af-7e2017be84b4",
   "metadata": {},
   "source": [
    "## 중복된 역명으로 파일 업데이트"
   ]
  },
  {
   "cell_type": "code",
   "execution_count": 18,
   "id": "b1613637-e876-43f3-9106-f8e15600480b",
   "metadata": {},
   "outputs": [],
   "source": [
    "# 'common_stations_all'에 존재하는 '역명'만 남기기\n",
    "air_quality_df_filtered = air_quality_df[air_quality_df['역명'].isin(common_stations_all)]\n",
    "passenger_df_filtered = passenger_df[passenger_df['역명'].isin(common_stations_all)]\n",
    "\n",
    "# 수정된 데이터를 다시 저장\n",
    "air_quality_df_filtered.to_csv('서울교통공사_지하역사_공기질_측정_정보_20221231_cleaned_v2.csv', index=False, encoding='utf-8-sig')\n",
    "passenger_df_filtered.to_csv('서울교통공사_승하차_인원수20221231_cleaned_v2.csv', index=False, encoding='utf-8-sig')"
   ]
  },
  {
   "cell_type": "markdown",
   "id": "c87d2fd2-99e7-4313-a389-c8e4de415f07",
   "metadata": {},
   "source": [
    "## 업데이트 되었는지 확인"
   ]
  },
  {
   "cell_type": "code",
   "execution_count": 22,
   "id": "b5b6666b-3fee-45c9-b658-87bce742db8b",
   "metadata": {},
   "outputs": [],
   "source": [
    "# CSV 파일을 읽어 데이터프레임으로 변환\n",
    "coordinate_df = pd.read_csv('서울교통공사_1_8호선_역사_좌표(위경도)정보_20231031.csv', encoding='euc-kr')\n",
    "air_quality_df = pd.read_csv('서울교통공사_지하역사_공기질_측정_정보_20221231_cleaned_v2.csv')\n",
    "passenger_df = pd.read_csv('서울교통공사_승하차_인원수20221231_cleaned_v2.csv')\n",
    "\n",
    "# 각 데이터프레임에서 \"역명\" 값 추출\n",
    "coordinate_stations = set(coordinate_df['역명'])\n",
    "air_quality_stations = set(air_quality_df['역명'])\n",
    "passenger_stations = set(passenger_df['역명'])\n",
    "\n",
    "# 공기질 측정 파일에만 있는 역명 값 확인\n",
    "air_quality_only_stations = air_quality_stations - (coordinate_stations | passenger_stations)\n",
    "# 승하차 인원수 파일에만 있는 역명 값 확인\n",
    "passenger_only_stations = passenger_stations - (coordinate_stations | air_quality_stations)\n",
    "# 좌표 파일에만 있는 역명 값 확인\n",
    "coordinate_only_stations = coordinate_stations - (air_quality_stations | passenger_stations)\n",
    "\n",
    "# 공통된 역명 확인\n",
    "common_stations_all = coordinate_stations & air_quality_stations & passenger_stations"
   ]
  },
  {
   "cell_type": "code",
   "execution_count": 23,
   "id": "45dc11f8-3b7f-4988-8d77-7f7a04a3f67b",
   "metadata": {},
   "outputs": [
    {
     "name": "stdout",
     "output_type": "stream",
     "text": [
      "세 파일 모두에 공통된 역명 값: {'도곡', '명동', '화랑대', '하계', '역촌', '천왕', '여의나루', '제기동', '무악재', '불광', '합정', '신도림', '발산', '마곡', '청량리', '을지로입구', '청담', '어린이대공원', '남한산성입구', '숙대입구', '광화문', '복정', '수유', '오목교', '광나루', '태릉입구', '대흥', '천호', '방이', '홍제', '매봉', '방화', '선릉', '단대오거리', '회현', '삼성', '길동', '강동구청', '안국', '강남구청', '공덕', '구파발', '내방', '쌍문', '영등포시장', '종로3가', '둔촌동', '석촌', '종로5가', '신풍', '이태원', '까치산', '송파', '송정', '숭실대입구', '신용산', '개롱', '신정네거리', '이대', '상일동', '아차산', '애오개', '거여', '동대문역사문화공원', '왕십리', '강동', '상봉', '일원', '남태령', '화곡', '디지털미디어시티', '면목', '보라매', '수서', '낙성대', '강일', '미사', '을지로4가', '먹골', '신금호', '독바위', '서울대입구', '홍대입구', '반포', '성신여대입구', '온수', '경찰병원', '신흥', '고려대', '공릉', '하남검단산', '광흥창', '압구정', '대치', '종각', '철산', '행당', '신당', '논현', '충무로', '상도', '수락산', '남구로', '오금', '신대방삼거리', '녹사평', '돌곶이', '용마산', '구산', '잠실새내', '사가정', '양천구청', '총신대입구', '녹번', '여의도', '용두', '답십리', '장승배기', '장한평', '영등포구청', '잠원', '중계', '개화산', '대림', '하남시청', '신정', '효창공원앞', '한성대입구', '종합운동장', '우장산', '모란', '광명사거리', '마천', '고덕', '길음', '몽촌토성', '보문', '굽은다리', '혜화', '교대', '안암', '봉천', '문정', '양평', '도림천', '증산', '양재', '가산디지털단지', '상왕십리', '이촌', '중화', '월드컵경기장', '신림', '하남풍산', '목동', '미아', '동묘앞', '서초', '아현', '군자', '강남', '버티고개', '연신내', '미아사거리', '노원', '청구', '동대문', '학동', '신길', '을지로3가', '학여울', '서울', '창신', '석계', '대청', '마포구청', '삼각지', '건대입구', '금호', '고속터미널', '김포공항', '시청', '마장', '마들', '서대문', '경복궁', '상월곡', '암사', '월곡', '남부터미널', '마포', '문래', '중곡', '장지', '잠실', '수진', '충정로', '역삼', '망원', '명일', '올림픽공원', '독립문', '약수', '신설동', '상수', '방배', '응암', '산성', '동대입구', '남성', '가락시장', '새절', '한강진', '신사', '신촌', '사당', '봉화산'}\n",
      "\n",
      "공기질 측정 파일에만 있는 역명 값: set()\n",
      "\n",
      "승하차 인원수 파일에만 있는 역명 값: set()\n",
      "\n",
      "좌표 파일에만 있는 역명 값: {'신답', '동작', '지축', '잠실나루', '도봉산', '구의', '구로디지털단지', '당산', '당고개', '신내', '창동', '뚝섬', '상계', '강변', '옥수', '성수', '뚝섬유원지', '한양대', '용답', '남위례', '장암', '신대방'}\n"
     ]
    }
   ],
   "source": [
    "# 결과 출력\n",
    "print(\"세 파일 모두에 공통된 역명 값:\", common_stations_all)\n",
    "print()\n",
    "print(\"공기질 측정 파일에만 있는 역명 값:\", air_quality_only_stations)\n",
    "print()\n",
    "print(\"승하차 인원수 파일에만 있는 역명 값:\", passenger_only_stations)\n",
    "print()\n",
    "print(\"좌표 파일에만 있는 역명 값:\", coordinate_only_stations)"
   ]
  }
 ],
 "metadata": {
  "kernelspec": {
   "display_name": "Python 3 (ipykernel)",
   "language": "python",
   "name": "python3"
  },
  "language_info": {
   "codemirror_mode": {
    "name": "ipython",
    "version": 3
   },
   "file_extension": ".py",
   "mimetype": "text/x-python",
   "name": "python",
   "nbconvert_exporter": "python",
   "pygments_lexer": "ipython3",
   "version": "3.12.3"
  }
 },
 "nbformat": 4,
 "nbformat_minor": 5
}
