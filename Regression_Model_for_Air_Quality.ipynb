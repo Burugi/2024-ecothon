{
 "cells": [
  {
   "cell_type": "code",
   "execution_count": 1,
   "id": "1652374e-dcaf-4f89-8f16-da919238dff5",
   "metadata": {},
   "outputs": [],
   "source": [
    "import pandas as pd\n",
    "import numpy as np\n",
    "from sklearn.model_selection import train_test_split\n",
    "from sklearn.linear_model import LinearRegression\n",
    "from sklearn.metrics import mean_squared_error, r2_score\n",
    "import matplotlib.pyplot as plt"
   ]
  },
  {
   "cell_type": "code",
   "execution_count": 4,
   "id": "0f124b99-54cd-4d9f-a1d8-15e9098c3f3f",
   "metadata": {},
   "outputs": [
    {
     "data": {
      "text/html": [
       "<div>\n",
       "<style scoped>\n",
       "    .dataframe tbody tr th:only-of-type {\n",
       "        vertical-align: middle;\n",
       "    }\n",
       "\n",
       "    .dataframe tbody tr th {\n",
       "        vertical-align: top;\n",
       "    }\n",
       "\n",
       "    .dataframe thead th {\n",
       "        text-align: right;\n",
       "    }\n",
       "</style>\n",
       "<table border=\"1\" class=\"dataframe\">\n",
       "  <thead>\n",
       "    <tr style=\"text-align: right;\">\n",
       "      <th></th>\n",
       "      <th>역명</th>\n",
       "      <th>총 승객수</th>\n",
       "    </tr>\n",
       "  </thead>\n",
       "  <tbody>\n",
       "    <tr>\n",
       "      <th>0</th>\n",
       "      <td>4.19민주묘지</td>\n",
       "      <td>3988</td>\n",
       "    </tr>\n",
       "    <tr>\n",
       "      <th>1</th>\n",
       "      <td>가능</td>\n",
       "      <td>9038</td>\n",
       "    </tr>\n",
       "    <tr>\n",
       "      <th>2</th>\n",
       "      <td>가락시장</td>\n",
       "      <td>22177</td>\n",
       "    </tr>\n",
       "    <tr>\n",
       "      <th>3</th>\n",
       "      <td>가산디지털단지</td>\n",
       "      <td>37006</td>\n",
       "    </tr>\n",
       "    <tr>\n",
       "      <th>4</th>\n",
       "      <td>가양</td>\n",
       "      <td>24940</td>\n",
       "    </tr>\n",
       "    <tr>\n",
       "      <th>...</th>\n",
       "      <td>...</td>\n",
       "      <td>...</td>\n",
       "    </tr>\n",
       "    <tr>\n",
       "      <th>516</th>\n",
       "      <td>회기</td>\n",
       "      <td>34879</td>\n",
       "    </tr>\n",
       "    <tr>\n",
       "      <th>517</th>\n",
       "      <td>회룡</td>\n",
       "      <td>17056</td>\n",
       "    </tr>\n",
       "    <tr>\n",
       "      <th>518</th>\n",
       "      <td>회현(남대문시장)</td>\n",
       "      <td>39353</td>\n",
       "    </tr>\n",
       "    <tr>\n",
       "      <th>519</th>\n",
       "      <td>효창공원앞</td>\n",
       "      <td>10751</td>\n",
       "    </tr>\n",
       "    <tr>\n",
       "      <th>520</th>\n",
       "      <td>흑석(중앙대입구)</td>\n",
       "      <td>10199</td>\n",
       "    </tr>\n",
       "  </tbody>\n",
       "</table>\n",
       "<p>521 rows × 2 columns</p>\n",
       "</div>"
      ],
      "text/plain": [
       "            역명  총 승객수\n",
       "0     4.19민주묘지   3988\n",
       "1           가능   9038\n",
       "2         가락시장  22177\n",
       "3      가산디지털단지  37006\n",
       "4           가양  24940\n",
       "..         ...    ...\n",
       "516         회기  34879\n",
       "517         회룡  17056\n",
       "518  회현(남대문시장)  39353\n",
       "519      효창공원앞  10751\n",
       "520  흑석(중앙대입구)  10199\n",
       "\n",
       "[521 rows x 2 columns]"
      ]
     },
     "execution_count": 4,
     "metadata": {},
     "output_type": "execute_result"
    }
   ],
   "source": [
    "# CSV 파일 읽기\n",
    "passenger_df = pd.read_csv('서울교통공사_승하차_인원수20221231.csv', encoding='euc-kr')\n",
    "\n",
    "# \"승차총승객수\"와 \"하차총승객수\"를 더하여 \"총 승객수\" 컬럼 생성\n",
    "passenger_df['총 승객수'] = passenger_df['승차총승객수'] + passenger_df['하차총승객수']\n",
    "\n",
    "# \"역명\"별로 \"총 승객수\" 집계\n",
    "total_passengers_by_station = passenger_df.groupby('역명')['총 승객수'].sum().reset_index()\n",
    "\n",
    "# 결과 출력\n",
    "total_passengers_by_station"
   ]
  },
  {
   "cell_type": "code",
   "execution_count": 13,
   "id": "e43ba576-fa80-49de-b434-7bb08bb98bc5",
   "metadata": {},
   "outputs": [],
   "source": [
    "import pandas as pd\n",
    "\n",
    "# CSV 파일 읽기\n",
    "passenger_df = pd.read_csv('서울교통공사_승하차_인원수20221231.csv', encoding='euc-kr')\n",
    "\n",
    "# \"역명\" 컬럼에서 괄호와 그 안의 내용을 제거\n",
    "passenger_df['역명'] = passenger_df['역명'].str.replace(r'\\(.*\\)', '', regex=True)\n",
    "\n",
    "# 결과를 새로운 CSV 파일로 저장\n",
    "passenger_df.to_csv('서울교통공사_승하차_인원수20221231_cleaned_v2.csv', index=False, encoding='utf-8-sig')"
   ]
  },
  {
   "cell_type": "code",
   "execution_count": 15,
   "id": "aeaadeea-2a25-4ea8-b79e-e9f4ed4c5ba6",
   "metadata": {},
   "outputs": [
    {
     "name": "stdout",
     "output_type": "stream",
     "text": [
      "공통된 역명 값: {'천왕', '서대문', '을지로입구', '장승배기', '복정', '미아사거리', '상왕십리', '남태령', '학여울', '개화산', '이촌', '사가정', '독바위', '종로5가', '약수', '신사', '마장', '이수', '천호', '노원', '신당', '서울대입구', '공릉', '총신대입구', '상도', '디지털미디어시티', '매봉', '종각', '사당', '장지', '응암', '행당', '망원', '미사', '양천구청', '애오개', '중앙보훈병원', '온수', '삼전', '장한평', '청담', '고속터미널', '광나루', '개롱', '홍제', '동대문', '제기동', '신정', '둔촌동', '남부터미널', '둔촌오륜', '무악재', '신림', '녹번', '내방', '모란', '석촌', '광화문', '경복궁', '한성대입구', '상일동', '문정', '안암', '마곡', '영등포구청', '을지로4가', '공덕', '암사', '도곡', '청구', '신금호', '강남', '용두', '고덕', '대청', '혜화', '불광', '신설동', '건대입구', '합정', '아현', '남성', '월곡', '화랑대', '보라매', '철산', '강남구청', '충무로', '금호', '방이', '구산', '중화', '숙대입구', '하남풍산', '대치', '가락시장', '거여', '돌곶이', '먹골', '여의나루', '서울역', '명동', '독립문', '구파발', '용마산', '신풍', '증산', '상월곡', '남구로', '수유', '산성', '여의도', '쌍문', '낙성대', '녹사평', '잠실새내', '고려대', '마포', '마천', '보문', '길동', '압구정', '송정', '선정릉', '강동', '아차산', '교대', '봉화산', '잠원', '안국', '동대입구', '버티고개', '일원', '몽촌토성', '새절', '군자', '시청', '신흥', '한강진', '까치산', '면목', '길음', '성신여대입구', '명일', '도림천', '광명사거리', '하남시청', '동묘앞', '올림픽공원', '월드컵경기장', '석계', '석촌고분', '강일', '중곡', '청량리', '마포구청', '논현', '미아', '종합운동장', '목동', '대흥', '봉은사', '답십리', '강동구청', '을지로3가', '상수', '신도림', '단대오거리', '역촌', '언주', '신용산', '삼성', '역삼', '창신', '한성백제', '화곡', '오금', '마들', '대림', '서초', '우장산', '효창공원앞', '문래', '발산', '신대방삼거리', '남한산성입구', '영등포시장', '태릉입구', '김포공항', '수락산', '왕십리', '신길', '오목교', '중계', '숭실대입구', '수서', '봉천', '삼각지', '신정네거리', '회현', '광흥창', '수진', '굽은다리', '어린이대공원', '반포', '방화', '충정로', '홍대입구', '이대', '종로3가', '양재', '학동', '양평', '방배', '잠실', '신촌', '경찰병원', '동대문역사문화공원', '송파', '연신내', '하남검단산', '상봉', '하계', '송파나루', '선릉', '가산디지털단지', '삼성중앙', '이태원'}\n",
      "\n",
      "승하차 인원수 파일에만 있는 역명 값: {'신길온천', '응봉', '검암', '회기', '영종', '화계', '금정', '송탄', '의왕', '춘천', '양원', '기흥', '달월', '문산', '연수', '도봉산', '남춘천', '세종대왕릉', '대성리', '대방', '신반포', '노들', '관악산', '지평', '동인천', '소요산', '오류동', '상천', '공항화물청사', '금천구청', '덕정', '남동인더스파크', '구성', '별내', '원인재', '부개', '상계', '석수', '평택지제', '흑석', '일산', '청평', '영등포', '서울지방병무청', '주안', '세마', '간석', '회룡', '압구정로데오', '신갈', '대화', '서현', '삼동', '남위례', '보산', '여주', '정릉', '백마', '탄현', '인천공항1터미널', '당산', '월롱', '이매', '신원', '야탑', '등촌', '소래포구', '고색', '팔당', '강변', '대야미', '숭의', '부평', '평내호평', '사릉', '주엽', '성수', '성균관대', '수리산', '반월', '한양대', '가오리', '보라매병원', '대곡', '가평', '대공원', '신답', '과천', '계양', '평촌', '방학', '노량진', '미금', '청명', '덕계', '관악', '당정', '북한산보국문', '곤지암', '개화', '오이도', '사리', '월계', '경기광주', '동암', '범계', '한티', '영통', '금곡', '정왕', '화서', '정발산', '공항시장', '구로디지털단지', '덕소', '역곡', '구로', '부발', '백석', '4.19민주묘지', '당고개', '갈매', '매교', '잠실나루', '도농', '구일', '강매', '봉명', '인덕원', '마두', '정부과천청사', '제물포', '용문', '군포', '도원', '아산', '증미', '가능', '운길산', '신대방', '선유도', '탕정', '굴봉산', '가천대', '염창', '오산', '운서', '오리', '망월사', '온양온천', '퇴계원', '보라매공원', '강촌', '곡산', '호구포', '삼양', '운천', '안산', '한대앞', '초월', '산본', '백운', '죽전', '북한산우이', '삼양사거리', '서울숲', '초지', '백양리', '상록수', '중앙', '원당', '성환', '신이문', '양주', '두정', '금촌', '의정부', '청라국제도시', '야당', '안양', '지행', '고잔', '선바위', '외대앞', '수내', '양천향교', '장암', '아신', '마곡나루', '서울대벤처타운', '샛강', '양정', '가좌', '신방화', '부천', '이천', '금릉', '중랑', '인하대', '양수', '사평', '망우', '원덕', '인천공항2터미널', '개봉', '독산', '녹천', '창동', '마석', '서강대', '수원시청', '평택', '용답', '삼송', '병점', '파주', '솔밭공원', '구리', '쌍용', '직산', '서원', '보정', '도봉', '풍산', '오목천', '도화', '김유정', '송도', '어천', '배방', '진위', '명학', '서정리', '구의', '화전', '구반포', '도심', '매탄권선', '수색', '신포', '운정', '동두천', '천마산', '수원', '동작', '경마공원', '한남', '임진강', '능곡', '소사', '태평', '야목', '광명', '옥수', '녹양', '세류', '중동', '구룡', '가양', '개포동', '인천논현', '망포', '신목동', '신논현', '인천', '신창', '신둔도예촌', '월곶', '광운대', '화정', '당곡', '판교', '신내', '남영', '송내', '천안', '솔샘', '오빈', '서동탄', '상갈', '원흥', '국회의사당', '대모산입구', '정자', '행신', '뚝섬', '오산대', '뚝섬유원지', '용산', '서빙고', '동두천중앙', '지축', '국수'}\n",
      "\n",
      "공기질 측정 파일에만 있는 역명 값: set()\n"
     ]
    }
   ],
   "source": [
    "import pandas as pd\n",
    "\n",
    "# CSV 파일을 읽어 데이터프레임으로 변환\n",
    "passenger_df = pd.read_csv('서울교통공사_승하차_인원수20221231_cleaned_v2.csv')\n",
    "air_quality_df = pd.read_csv('서울교통공사_지하역사_공기질_측정_정보_20221231_cleaned_v2.csv')\n",
    "\n",
    "# 두 데이터프레임에서 \"역명\" 값 추출\n",
    "passenger_stations = set(passenger_df['역명'])\n",
    "air_quality_stations = set(air_quality_df['역명'])\n",
    "\n",
    "# 공통된 역명 확인\n",
    "common_stations = passenger_stations.intersection(air_quality_stations)\n",
    "\n",
    "# 일치하지 않는 역명 값 확인\n",
    "passenger_only_stations = passenger_stations - air_quality_stations\n",
    "air_quality_only_stations = air_quality_stations - passenger_stations\n",
    "\n",
    "# 결과 출력\n",
    "print(\"공통된 역명 값:\", common_stations)\n",
    "print()\n",
    "print(\"승하차 인원수 파일에만 있는 역명 값:\", passenger_only_stations)\n",
    "print()\n",
    "print(\"공기질 측정 파일에만 있는 역명 값:\", air_quality_only_stations)\n"
   ]
  },
  {
   "cell_type": "code",
   "execution_count": 9,
   "id": "11d0de39-1922-41d4-80fc-66aa40de63c1",
   "metadata": {},
   "outputs": [
    {
     "name": "stdout",
     "output_type": "stream",
     "text": [
      "일치하지 않는 서울 지하철 역명 값: ['춘천', '기흥', '도봉산', '교대(법원.검찰청)', '노들', '동인천', '소요산', '남동인더스파크', '별내', '원인재', '평택지제', '서울지방병무청', '보산', '숙대입구(갈월)', '신원', '고색', '숭의', '쌍용(나사렛대)', '성균관대', '수리산', '대곡', '군자(능동)', '평촌', '노량진', '회현(남대문시장)', '곤지암', '개화', '오이도', '사리', '정왕', '화서', '광화문(세종문화회관)', '정발산', '역곡', '구로', '신창(순천향대)', '백석', '매교', '제물포', '군포', '구의(광진구청)', '양재(서초구청)', '운길산', '선유도', '곡산', '삼양', '운천', '북한산우이', '상록수', '두정', '안암(고대병원앞)', '안양', '왕십리(성동구청)', '고잔', '선바위', '외대앞', '수내', '장암', '서울대벤처타운', '이천', '낙성대(강감찬)', '사평', '원덕', '인천공항2터미널', '마석', '서강대', '수원시청', '평택', '파주', '도봉', '송도', '배방', '어천', '진위', '명학', '서정리', '남부터미널(예술의전당)', '화전', '운정', '동두천', '이촌(국립중앙박물관)', '몽촌토성(평화의문)', '능곡', '광명', '신목동', '광흥창(서강)', '신논현', '인천', '당곡', '신내', '천안', '서동탄', '대모산입구', '오산대', '수유(강북구청)', '굽은다리(강동구민회관앞)', '회기', '금정', '송탄', '양원', '남춘천', '오류동', '상천', '천호(풍납토성)', '삼동', '등촌', '봉화산(서울의료원)', '부평', '사릉', '한양대', '보라매병원', '계양', '새절(신사)', '마곡나루(서울식물원)', '방학', '미금', '북한산보국문', '월계', '공항시장', '구로디지털단지', '부발', '4.19민주묘지', '봉명', '마두', '동작(현충원)', '아산', '증미', '가능', '신대방', '탕정', '염창', '온양온천', '보라매공원', '안산', '한대앞', '백운', '산본', '공릉(서울과학기술대)', '원당', '양주', '대림(구로구청)', '지행', '양정', '신방화', '금릉', '총신대입구(이수)', '인하대', '망우', '흑석(중앙대입구)', '서원', '풍산', '대흥(서강대앞)', '구반포', '도심', '매탄권선', '남한산성입구(성남법원.검찰청)', '천마산', '소사', '야목', '광나루(장신대)', '옥수', '중동', '개포동', '인천논현', '광운대', '화정', '어린이대공원(세종대)', '남영', '오빈', '원흥', '정자', '행신', '뚝섬', '용산', '서빙고', '지축', '국수', '신길온천', '검암', '영종', '의왕', '온수(성공회대입구)', '용두(동대문구청)', '용마산(용마폭포공원)', '문산', '대성리', '오목교(목동운동장앞)', '지평', '공항화물청사', '금천구청', '증산(명지대앞)', '청평', '영등포', '세마', '주안', '서현', '남위례', '정릉', '당산', '월롱', '야탑', '팔당', '평내호평', '주엽', '성수', '반월', '가오리', '가평', '대공원', '과천', '청명', '고려대(종암)', '청량리(서울시립대입구)', '상봉(시외버스터미널)', '경기광주', '동암', '범계', '영통', '덕소', '갈매', '잠실나루', '미아(서울사이버대학)', '정부과천청사', '도원', '굴봉산', '가천대', '하남시청(덕풍·신장)', '호구포', '죽전', '삼양사거리', '신이문', '금촌', '의정부', '청라국제도시', '야당', '아신', '샛강', '가좌', '개봉', '녹천', '용답', '삼송', '솔밭공원', '강변(동서울터미널)', '구리', '직산', '녹사평(용산구청)', '오목천', '도화', '수색', '수원', '태평', '녹양', '세류', '가양', '올림픽공원(한국체대)', '판교', '송내', '상갈', '경복궁(정부서울청사)', '석수', '응봉', '화계', '달월', '월곡(동덕여대)', '연수', '아차산(어린이대공원후문)', '세종대왕릉', '대방', '신반포', '덕정', '구성', '부개', '상계', '일산', '간석', '삼성(무역센터)', '회룡', '압구정로데오', '신갈', '대화', '상월곡(한국과학기술연구원)', '백마', '여주', '탄현', '인천공항1터미널', '신정(은행정)', '이매', '소래포구', '대야미', '충정로(경기대입구)', '신답', '덕계', '관악', '당정', '동대문역사문화공원(DDP)', '한티', '숭실대입구(살피재)', '금곡', '당고개', '도농', '구일', '인덕원', '용문', '관악산(서울대)', '오산', '서울대입구(관악구청)', '오리', '운서', '망월사', '퇴계원', '강촌', '초월', '월드컵경기장(성산)', '서울숲', '초지', '백양리', '중앙', '성신여대입구(돈암)', '성환', '잠실(송파구청)', '양천향교', '부천', '중랑', '양수', '독산', '병점', '창동', '보정', '김유정', '한성대입구(삼선교)', '신포', '경마공원', '한남', '임진강', '구룡', '망포', '신둔도예촌', '월곶', '솔샘', '국회의사당', '화랑대(서울여대입구)', '뚝섬유원지', '동두천중앙', '강매']\n"
     ]
    }
   ],
   "source": [
    "import pandas as pd\n",
    "\n",
    "# CSV 파일 읽기\n",
    "passenger_df = pd.read_csv('서울교통공사_승하차_인원수20221231.csv', encoding='euc-kr')\n",
    "air_quality_df = pd.read_csv('서울교통공사_지하역사_공기질_측정_정보_20221231_cleaned_v2.csv')\n",
    "\n",
    "# \"승차총승객수\"와 \"하차총승객수\"를 더하여 \"총 승객수\" 컬럼 생성\n",
    "passenger_df['총 승객수'] = passenger_df['승차총승객수'] + passenger_df['하차총승객수']\n",
    "\n",
    "# \"역명\"별로 \"총 승객수\" 집계\n",
    "total_passengers_by_station = passenger_df.groupby('역명')['총 승객수'].sum().reset_index()\n",
    "\n",
    "# 두 데이터프레임에서 \"역명\" 값 추출\n",
    "passenger_stations = set(total_passengers_by_station['역명'])\n",
    "air_quality_stations = set(air_quality_df['역명'])\n",
    "\n",
    "# 서울 지하철 역 목록 추출 (서울 지하철 역 목록을 활용하여 필터링)\n",
    "seoul_subway_stations = passenger_df['역명'].unique()  # 여기에 서울 지하철 전체 역 목록을 사용할 수 있습니다\n",
    "\n",
    "# 일치하지 않는 역명 중 서울 지하철에 해당하는 역 필터링\n",
    "non_matching_seoul_stations = [station for station in non_matching_stations if station in seoul_subway_stations]\n",
    "\n",
    "# 결과 출력\n",
    "print(\"일치하지 않는 서울 지하철 역명 값:\", non_matching_seoul_stations)"
   ]
  },
  {
   "cell_type": "code",
   "execution_count": null,
   "id": "daa6b8b3-c38f-4518-822c-ef2bedf9d6c1",
   "metadata": {},
   "outputs": [],
   "source": []
  },
  {
   "cell_type": "code",
   "execution_count": 3,
   "id": "247e13a7-4e00-402a-aed3-4f15dd4bbc32",
   "metadata": {},
   "outputs": [
    {
     "ename": "KeyError",
     "evalue": "'역명'",
     "output_type": "error",
     "traceback": [
      "\u001b[0;31m---------------------------------------------------------------------------\u001b[0m",
      "\u001b[0;31mKeyError\u001b[0m                                  Traceback (most recent call last)",
      "\u001b[0;32m/var/folders/3f/7xkw3k0d16qbyj2rsfd1cgxr0000gn/T/ipykernel_31802/2748417463.py\u001b[0m in \u001b[0;36m?\u001b[0;34m()\u001b[0m\n\u001b[1;32m      2\u001b[0m \u001b[0mair_quality_df\u001b[0m \u001b[0;34m=\u001b[0m \u001b[0mpd\u001b[0m\u001b[0;34m.\u001b[0m\u001b[0mread_csv\u001b[0m\u001b[0;34m(\u001b[0m\u001b[0;34m'서울교통공사_지하역사_공기질_측정_정보_20221231.csv'\u001b[0m\u001b[0;34m,\u001b[0m \u001b[0mencoding\u001b[0m\u001b[0;34m=\u001b[0m\u001b[0;34m'euc-kr'\u001b[0m\u001b[0;34m)\u001b[0m\u001b[0;34m\u001b[0m\u001b[0;34m\u001b[0m\u001b[0m\n\u001b[1;32m      3\u001b[0m \u001b[0mcongestion_df\u001b[0m \u001b[0;34m=\u001b[0m \u001b[0mpd\u001b[0m\u001b[0;34m.\u001b[0m\u001b[0mread_csv\u001b[0m\u001b[0;34m(\u001b[0m\u001b[0;34m'서울교통공사_지하철혼잡도정보_20230331.csv'\u001b[0m\u001b[0;34m,\u001b[0m \u001b[0mencoding\u001b[0m\u001b[0;34m=\u001b[0m\u001b[0;34m'euc-kr'\u001b[0m\u001b[0;34m)\u001b[0m\u001b[0;34m\u001b[0m\u001b[0;34m\u001b[0m\u001b[0m\n\u001b[1;32m      4\u001b[0m \u001b[0;34m\u001b[0m\u001b[0m\n\u001b[1;32m      5\u001b[0m \u001b[0;31m# 데이터 병합\u001b[0m\u001b[0;34m\u001b[0m\u001b[0;34m\u001b[0m\u001b[0m\n\u001b[0;32m----> 6\u001b[0;31m \u001b[0mmerged_df\u001b[0m \u001b[0;34m=\u001b[0m \u001b[0mpd\u001b[0m\u001b[0;34m.\u001b[0m\u001b[0mmerge\u001b[0m\u001b[0;34m(\u001b[0m\u001b[0mair_quality_df\u001b[0m\u001b[0;34m,\u001b[0m \u001b[0mcongestion_df\u001b[0m\u001b[0;34m,\u001b[0m \u001b[0mon\u001b[0m\u001b[0;34m=\u001b[0m\u001b[0;34m[\u001b[0m\u001b[0;34m'역명'\u001b[0m\u001b[0;34m,\u001b[0m \u001b[0;34m'날짜'\u001b[0m\u001b[0;34m,\u001b[0m \u001b[0;34m'시간'\u001b[0m\u001b[0;34m]\u001b[0m\u001b[0;34m)\u001b[0m\u001b[0;34m\u001b[0m\u001b[0;34m\u001b[0m\u001b[0m\n\u001b[0m",
      "\u001b[0;32m/opt/anaconda3/envs/ecothon/lib/python3.12/site-packages/pandas/core/reshape/merge.py\u001b[0m in \u001b[0;36m?\u001b[0;34m(left, right, how, on, left_on, right_on, left_index, right_index, sort, suffixes, copy, indicator, validate)\u001b[0m\n\u001b[1;32m    166\u001b[0m             \u001b[0mvalidate\u001b[0m\u001b[0;34m=\u001b[0m\u001b[0mvalidate\u001b[0m\u001b[0;34m,\u001b[0m\u001b[0;34m\u001b[0m\u001b[0;34m\u001b[0m\u001b[0m\n\u001b[1;32m    167\u001b[0m             \u001b[0mcopy\u001b[0m\u001b[0;34m=\u001b[0m\u001b[0mcopy\u001b[0m\u001b[0;34m,\u001b[0m\u001b[0;34m\u001b[0m\u001b[0;34m\u001b[0m\u001b[0m\n\u001b[1;32m    168\u001b[0m         \u001b[0;34m)\u001b[0m\u001b[0;34m\u001b[0m\u001b[0;34m\u001b[0m\u001b[0m\n\u001b[1;32m    169\u001b[0m     \u001b[0;32melse\u001b[0m\u001b[0;34m:\u001b[0m\u001b[0;34m\u001b[0m\u001b[0;34m\u001b[0m\u001b[0m\n\u001b[0;32m--> 170\u001b[0;31m         op = _MergeOperation(\n\u001b[0m\u001b[1;32m    171\u001b[0m             \u001b[0mleft_df\u001b[0m\u001b[0;34m,\u001b[0m\u001b[0;34m\u001b[0m\u001b[0;34m\u001b[0m\u001b[0m\n\u001b[1;32m    172\u001b[0m             \u001b[0mright_df\u001b[0m\u001b[0;34m,\u001b[0m\u001b[0;34m\u001b[0m\u001b[0;34m\u001b[0m\u001b[0m\n\u001b[1;32m    173\u001b[0m             \u001b[0mhow\u001b[0m\u001b[0;34m=\u001b[0m\u001b[0mhow\u001b[0m\u001b[0;34m,\u001b[0m\u001b[0;34m\u001b[0m\u001b[0;34m\u001b[0m\u001b[0m\n",
      "\u001b[0;32m/opt/anaconda3/envs/ecothon/lib/python3.12/site-packages/pandas/core/reshape/merge.py\u001b[0m in \u001b[0;36m?\u001b[0;34m(self, left, right, how, on, left_on, right_on, left_index, right_index, sort, suffixes, indicator, validate)\u001b[0m\n\u001b[1;32m    790\u001b[0m             \u001b[0mself\u001b[0m\u001b[0;34m.\u001b[0m\u001b[0mright_join_keys\u001b[0m\u001b[0;34m,\u001b[0m\u001b[0;34m\u001b[0m\u001b[0;34m\u001b[0m\u001b[0m\n\u001b[1;32m    791\u001b[0m             \u001b[0mself\u001b[0m\u001b[0;34m.\u001b[0m\u001b[0mjoin_names\u001b[0m\u001b[0;34m,\u001b[0m\u001b[0;34m\u001b[0m\u001b[0;34m\u001b[0m\u001b[0m\n\u001b[1;32m    792\u001b[0m             \u001b[0mleft_drop\u001b[0m\u001b[0;34m,\u001b[0m\u001b[0;34m\u001b[0m\u001b[0;34m\u001b[0m\u001b[0m\n\u001b[1;32m    793\u001b[0m             \u001b[0mright_drop\u001b[0m\u001b[0;34m,\u001b[0m\u001b[0;34m\u001b[0m\u001b[0;34m\u001b[0m\u001b[0m\n\u001b[0;32m--> 794\u001b[0;31m         \u001b[0;34m)\u001b[0m \u001b[0;34m=\u001b[0m \u001b[0mself\u001b[0m\u001b[0;34m.\u001b[0m\u001b[0m_get_merge_keys\u001b[0m\u001b[0;34m(\u001b[0m\u001b[0;34m)\u001b[0m\u001b[0;34m\u001b[0m\u001b[0;34m\u001b[0m\u001b[0m\n\u001b[0m\u001b[1;32m    795\u001b[0m \u001b[0;34m\u001b[0m\u001b[0m\n\u001b[1;32m    796\u001b[0m         \u001b[0;32mif\u001b[0m \u001b[0mleft_drop\u001b[0m\u001b[0;34m:\u001b[0m\u001b[0;34m\u001b[0m\u001b[0;34m\u001b[0m\u001b[0m\n\u001b[1;32m    797\u001b[0m             \u001b[0mself\u001b[0m\u001b[0;34m.\u001b[0m\u001b[0mleft\u001b[0m \u001b[0;34m=\u001b[0m \u001b[0mself\u001b[0m\u001b[0;34m.\u001b[0m\u001b[0mleft\u001b[0m\u001b[0;34m.\u001b[0m\u001b[0m_drop_labels_or_levels\u001b[0m\u001b[0;34m(\u001b[0m\u001b[0mleft_drop\u001b[0m\u001b[0;34m)\u001b[0m\u001b[0;34m\u001b[0m\u001b[0;34m\u001b[0m\u001b[0m\n",
      "\u001b[0;32m/opt/anaconda3/envs/ecothon/lib/python3.12/site-packages/pandas/core/reshape/merge.py\u001b[0m in \u001b[0;36m?\u001b[0;34m(self)\u001b[0m\n\u001b[1;32m   1293\u001b[0m                         \u001b[0;31m# Then we're either Hashable or a wrong-length arraylike,\u001b[0m\u001b[0;34m\u001b[0m\u001b[0;34m\u001b[0m\u001b[0m\n\u001b[1;32m   1294\u001b[0m                         \u001b[0;31m#  the latter of which will raise\u001b[0m\u001b[0;34m\u001b[0m\u001b[0;34m\u001b[0m\u001b[0m\n\u001b[1;32m   1295\u001b[0m                         \u001b[0mrk\u001b[0m \u001b[0;34m=\u001b[0m \u001b[0mcast\u001b[0m\u001b[0;34m(\u001b[0m\u001b[0mHashable\u001b[0m\u001b[0;34m,\u001b[0m \u001b[0mrk\u001b[0m\u001b[0;34m)\u001b[0m\u001b[0;34m\u001b[0m\u001b[0;34m\u001b[0m\u001b[0m\n\u001b[1;32m   1296\u001b[0m                         \u001b[0;32mif\u001b[0m \u001b[0mrk\u001b[0m \u001b[0;32mis\u001b[0m \u001b[0;32mnot\u001b[0m \u001b[0;32mNone\u001b[0m\u001b[0;34m:\u001b[0m\u001b[0;34m\u001b[0m\u001b[0;34m\u001b[0m\u001b[0m\n\u001b[0;32m-> 1297\u001b[0;31m                             \u001b[0mright_keys\u001b[0m\u001b[0;34m.\u001b[0m\u001b[0mappend\u001b[0m\u001b[0;34m(\u001b[0m\u001b[0mright\u001b[0m\u001b[0;34m.\u001b[0m\u001b[0m_get_label_or_level_values\u001b[0m\u001b[0;34m(\u001b[0m\u001b[0mrk\u001b[0m\u001b[0;34m)\u001b[0m\u001b[0;34m)\u001b[0m\u001b[0;34m\u001b[0m\u001b[0;34m\u001b[0m\u001b[0m\n\u001b[0m\u001b[1;32m   1298\u001b[0m                         \u001b[0;32melse\u001b[0m\u001b[0;34m:\u001b[0m\u001b[0;34m\u001b[0m\u001b[0;34m\u001b[0m\u001b[0m\n\u001b[1;32m   1299\u001b[0m                             \u001b[0;31m# work-around for merge_asof(right_index=True)\u001b[0m\u001b[0;34m\u001b[0m\u001b[0;34m\u001b[0m\u001b[0m\n\u001b[1;32m   1300\u001b[0m                             \u001b[0mright_keys\u001b[0m\u001b[0;34m.\u001b[0m\u001b[0mappend\u001b[0m\u001b[0;34m(\u001b[0m\u001b[0mright\u001b[0m\u001b[0;34m.\u001b[0m\u001b[0mindex\u001b[0m\u001b[0;34m.\u001b[0m\u001b[0m_values\u001b[0m\u001b[0;34m)\u001b[0m\u001b[0;34m\u001b[0m\u001b[0;34m\u001b[0m\u001b[0m\n",
      "\u001b[0;32m/opt/anaconda3/envs/ecothon/lib/python3.12/site-packages/pandas/core/generic.py\u001b[0m in \u001b[0;36m?\u001b[0;34m(self, key, axis)\u001b[0m\n\u001b[1;32m   1906\u001b[0m             \u001b[0mvalues\u001b[0m \u001b[0;34m=\u001b[0m \u001b[0mself\u001b[0m\u001b[0;34m.\u001b[0m\u001b[0mxs\u001b[0m\u001b[0;34m(\u001b[0m\u001b[0mkey\u001b[0m\u001b[0;34m,\u001b[0m \u001b[0maxis\u001b[0m\u001b[0;34m=\u001b[0m\u001b[0mother_axes\u001b[0m\u001b[0;34m[\u001b[0m\u001b[0;36m0\u001b[0m\u001b[0;34m]\u001b[0m\u001b[0;34m)\u001b[0m\u001b[0;34m.\u001b[0m\u001b[0m_values\u001b[0m\u001b[0;34m\u001b[0m\u001b[0;34m\u001b[0m\u001b[0m\n\u001b[1;32m   1907\u001b[0m         \u001b[0;32melif\u001b[0m \u001b[0mself\u001b[0m\u001b[0;34m.\u001b[0m\u001b[0m_is_level_reference\u001b[0m\u001b[0;34m(\u001b[0m\u001b[0mkey\u001b[0m\u001b[0;34m,\u001b[0m \u001b[0maxis\u001b[0m\u001b[0;34m=\u001b[0m\u001b[0maxis\u001b[0m\u001b[0;34m)\u001b[0m\u001b[0;34m:\u001b[0m\u001b[0;34m\u001b[0m\u001b[0;34m\u001b[0m\u001b[0m\n\u001b[1;32m   1908\u001b[0m             \u001b[0mvalues\u001b[0m \u001b[0;34m=\u001b[0m \u001b[0mself\u001b[0m\u001b[0;34m.\u001b[0m\u001b[0maxes\u001b[0m\u001b[0;34m[\u001b[0m\u001b[0maxis\u001b[0m\u001b[0;34m]\u001b[0m\u001b[0;34m.\u001b[0m\u001b[0mget_level_values\u001b[0m\u001b[0;34m(\u001b[0m\u001b[0mkey\u001b[0m\u001b[0;34m)\u001b[0m\u001b[0;34m.\u001b[0m\u001b[0m_values\u001b[0m\u001b[0;34m\u001b[0m\u001b[0;34m\u001b[0m\u001b[0m\n\u001b[1;32m   1909\u001b[0m         \u001b[0;32melse\u001b[0m\u001b[0;34m:\u001b[0m\u001b[0;34m\u001b[0m\u001b[0;34m\u001b[0m\u001b[0m\n\u001b[0;32m-> 1910\u001b[0;31m             \u001b[0;32mraise\u001b[0m \u001b[0mKeyError\u001b[0m\u001b[0;34m(\u001b[0m\u001b[0mkey\u001b[0m\u001b[0;34m)\u001b[0m\u001b[0;34m\u001b[0m\u001b[0;34m\u001b[0m\u001b[0m\n\u001b[0m\u001b[1;32m   1911\u001b[0m \u001b[0;34m\u001b[0m\u001b[0m\n\u001b[1;32m   1912\u001b[0m         \u001b[0;31m# Check for duplicates\u001b[0m\u001b[0;34m\u001b[0m\u001b[0;34m\u001b[0m\u001b[0m\n\u001b[1;32m   1913\u001b[0m         \u001b[0;32mif\u001b[0m \u001b[0mvalues\u001b[0m\u001b[0;34m.\u001b[0m\u001b[0mndim\u001b[0m \u001b[0;34m>\u001b[0m \u001b[0;36m1\u001b[0m\u001b[0;34m:\u001b[0m\u001b[0;34m\u001b[0m\u001b[0;34m\u001b[0m\u001b[0m\n",
      "\u001b[0;31mKeyError\u001b[0m: '역명'"
     ]
    }
   ],
   "source": [
    "# 데이터 로드 및 전처리\n",
    "air_quality_df = pd.read_csv('서울교통공사_지하역사_공기질_측정_정보_20221231.csv', encoding='euc-kr')\n",
    "congestion_df = pd.read_csv('서울교통공사_지하철혼잡도정보_20230331.csv', encoding='euc-kr')\n",
    "\n",
    "# 데이터 병합\n",
    "merged_df = pd.merge(air_quality_df, congestion_df, on=['역명', '날짜', '시간'])"
   ]
  },
  {
   "cell_type": "code",
   "execution_count": null,
   "id": "4de8ef5c-23e1-4230-97ba-c8d550dc1a43",
   "metadata": {},
   "outputs": [],
   "source": [
    "# 가중치 설정\n",
    "def assign_weight(row):\n",
    "    weight = 1\n",
    "    if row['미세먼지'] > 100:\n",
    "        weight *= 1.5  # 기준치 초과\n",
    "    elif row['미세먼지'] > 85:\n",
    "        weight *= 1.2  # 위험\n",
    "    if row['혼잡도'] > 80:\n",
    "        weight *= 1.3  # 혼잡도가 높은 시간\n",
    "    return weight\n",
    "\n",
    "merged_df['가중치'] = merged_df.apply(assign_weight, axis=1)\n",
    "\n",
    "# 독립 변수와 종속 변수 설정\n",
    "X = merged_df[['역명', '시간', '혼잡도']]\n",
    "y = merged_df['미세먼지']\n",
    "\n",
    "# 데이터 분할\n",
    "X_train, X_test, y_train, y_test, weights_train, weights_test = train_test_split(X, y, merged_df['가중치'], test_size=0.2, random_state=42)\n",
    "\n",
    "# 회귀 모델 구축\n",
    "model = LinearRegression()\n",
    "model.fit(X_train, y_train, sample_weight=weights_train)\n",
    "\n",
    "# 예측 및 평가\n",
    "y_pred = model.predict(X_test)\n",
    "print('R2 Score:', r2_score(y_test, y_pred))\n",
    "print('RMSE:', np.sqrt(mean_squared_error(y_test, y_pred)))\n",
    "\n",
    "# 예측 결과 시각화\n",
    "plt.scatter(y_test, y_pred)\n",
    "plt.xlabel('Actual PM10')\n",
    "plt.ylabel('Predicted PM10')\n",
    "plt.title('Actual vs Predicted PM10')\n",
    "plt.show()"
   ]
  },
  {
   "cell_type": "code",
   "execution_count": null,
   "id": "a08c3e3d-a1b7-4d14-bbbc-50527120b547",
   "metadata": {},
   "outputs": [],
   "source": []
  }
 ],
 "metadata": {
  "kernelspec": {
   "display_name": "Python 3 (ipykernel)",
   "language": "python",
   "name": "python3"
  },
  "language_info": {
   "codemirror_mode": {
    "name": "ipython",
    "version": 3
   },
   "file_extension": ".py",
   "mimetype": "text/x-python",
   "name": "python",
   "nbconvert_exporter": "python",
   "pygments_lexer": "ipython3",
   "version": "3.12.3"
  }
 },
 "nbformat": 4,
 "nbformat_minor": 5
}
