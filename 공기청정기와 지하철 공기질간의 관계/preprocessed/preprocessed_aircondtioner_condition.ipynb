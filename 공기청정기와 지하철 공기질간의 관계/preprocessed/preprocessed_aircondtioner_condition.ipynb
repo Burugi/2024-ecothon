{
 "cells": [
  {
   "cell_type": "markdown",
   "metadata": {},
   "source": [
    "서울교통공사 지하역사 승강장 공기청정기 설치 정보 20230320"
   ]
  },
  {
   "cell_type": "markdown",
   "metadata": {},
   "source": [
    "이 데이터에서 '역명'에 (1),(2)와 같이 역명 뒤에 붙은 괄호 숫자를 제거해줘"
   ]
  },
  {
   "cell_type": "code",
   "execution_count": null,
   "metadata": {},
   "outputs": [],
   "source": [
    "# Remove the numbers in parentheses from the '역명' column\n",
    "data['역명'] = data['역명'].str.replace(r'\\(\\d+\\)', '', regex=True)\n",
    "\n",
    "# Display the updated data\n",
    "import ace_tools as tools; tools.display_dataframe_to_user(name=\"Updated Subway Station Data\", dataframe=data)\n",
    "\n",
    "# Show the first few rows of the updated data\n",
    "data.head()\n"
   ]
  },
  {
   "cell_type": "code",
   "execution_count": null,
   "metadata": {},
   "outputs": [],
   "source": [
    "연번, 제조사, 모델명, 데이터기준일자를 없애줘"
   ]
  },
  {
   "cell_type": "code",
   "execution_count": null,
   "metadata": {},
   "outputs": [],
   "source": [
    "# Drop the specified columns\n",
    "columns_to_drop = ['연번', '제조사', '모델명', '데이터기준일자']\n",
    "data_cleaned = data.drop(columns=columns_to_drop)\n",
    "\n",
    "# Display the cleaned data\n",
    "tools.display_dataframe_to_user(name=\"Cleaned Subway Station Data\", dataframe=data_cleaned)\n",
    "\n",
    "# Show the first few rows of the cleaned data\n",
    "data_cleaned.head()\n"
   ]
  },
  {
   "cell_type": "markdown",
   "metadata": {},
   "source": [
    "호션명'에서 호선을 삭제하고 숫자만 남도록 해줘"
   ]
  },
  {
   "cell_type": "code",
   "execution_count": null,
   "metadata": {},
   "outputs": [],
   "source": [
    "# Remove the text '호선' from the '호선명' column\n",
    "data_cleaned['호선명'] = data_cleaned['호선명'].str.replace('호선', '', regex=False)\n",
    "\n",
    "# Display the updated data\n",
    "tools.display_dataframe_to_user(name=\"Updated Subway Line Data\", dataframe=data_cleaned)\n",
    "\n",
    "# Show the first few rows of the updated data\n",
    "data_cleaned.head()\n"
   ]
  },
  {
   "cell_type": "markdown",
   "metadata": {},
   "source": [
    "Merged Air Quality And Purifier Data // Cleaned Subway Station Data(위 데이터) // 서울교통공사 1 8호선 역사 좌표(위경도)정보 20231031"
   ]
  },
  {
   "cell_type": "markdown",
   "metadata": {},
   "source": [
    "'서울교통공사_1_8호선_역사_좌표(위경도)정보_20231031.csv'를 데이터를 기준으로 나머지 두 파일을 붙여줘"
   ]
  },
  {
   "cell_type": "code",
   "execution_count": null,
   "metadata": {},
   "outputs": [],
   "source": [
    "# Drop the correctly identified unnecessary columns\n",
    "columns_to_drop = ['호선_x', '고유역번호(외부역코드)', 'Unnamed: 0', '호선_y', '제조사', '모델명', '작성일자', \n",
    "                   '연번', '호선명_y', '역번호_y', '설치대수_y', '적용면적_y', '처리용량_y']\n",
    "final_merged_data_cleaned = final_merged_data.drop(columns=columns_to_drop)\n",
    "\n",
    "# Display the final cleaned merged data\n",
    "tools.display_dataframe_to_user(name=\"Final Cleaned Merged Subway Data\", dataframe=final_merged_data_cleaned)\n",
    "\n",
    "# Show the first few rows of the final cleaned merged data\n",
    "final_merged_data_cleaned.head()\n"
   ]
  },
  {
   "cell_type": "markdown",
   "metadata": {},
   "source": [
    "dropna()해줘"
   ]
  },
  {
   "cell_type": "code",
   "execution_count": null,
   "metadata": {},
   "outputs": [],
   "source": [
    "# Drop the correctly identified unnecessary columns\n",
    "columns_to_drop = ['호선_x', '고유역번호(외부역코드)', 'Unnamed: 0', '호선_y', '제조사', '모델명', '작성일자', \n",
    "                   '연번', '호선명_y', '역번호_y', '설치대수_y', '적용면적_y', '처리용량_y']\n",
    "final_merged_data_cleaned = final_merged_data.drop(columns=columns_to_drop)\n",
    "\n",
    "# Display the final cleaned merged data\n",
    "tools.display_dataframe_to_user(name=\"Final Cleaned Merged Subway Data\", dataframe=final_merged_data_cleaned)\n",
    "\n",
    "# Show the first few rows of the final cleaned merged data\n",
    "final_merged_data_cleaned.head()\n"
   ]
  },
  {
   "cell_type": "markdown",
   "metadata": {},
   "source": [
    "역번호_x와 역코드가 같은 행만 남겨줘"
   ]
  },
  {
   "cell_type": "code",
   "execution_count": null,
   "metadata": {},
   "outputs": [],
   "source": [
    "# Filter the rows where '역번호_x' is equal to '역코드'\n",
    "final_filtered_data = final_cleaned_data_no_na[final_cleaned_data_no_na['역번호_x'] == final_cleaned_data_no_na['역코드']]\n",
    "\n",
    "# Save the filtered data to a new CSV file\n",
    "final_filtered_file_path = '/mnt/data/final_filtered_subway_data.csv'\n",
    "final_filtered_data.to_csv(final_filtered_file_path, index=False)\n",
    "\n",
    "# Display the filtered data\n",
    "tools.display_dataframe_to_user(name=\"Final Filtered Subway Data\", dataframe=final_filtered_data)\n",
    "\n",
    "# Show the first few rows of the filtered data\n",
    "final_filtered_data.head()\n"
   ]
  },
  {
   "cell_type": "markdown",
   "metadata": {},
   "source": [
    "호선명_x, 역번호_x, 역코드를 삭제해줘"
   ]
  },
  {
   "cell_type": "code",
   "execution_count": null,
   "metadata": {},
   "outputs": [],
   "source": [
    "# Drop the specified columns\n",
    "columns_to_drop = ['호선명_x', '역번호_x', '역코드']\n",
    "final_data_without_columns = final_filtered_data.drop(columns=columns_to_drop)\n",
    "\n",
    "# Save the final cleaned data to a new CSV file\n",
    "final_data_without_columns_path = '/mnt/data/final_data_without_columns.csv'\n",
    "final_data_without_columns.to_csv(final_data_without_columns_path, index=False)\n",
    "\n",
    "# Display the final data without the specified columns\n",
    "tools.display_dataframe_to_user(name=\"Final Subway Data without Specified Columns\", dataframe=final_data_without_columns)\n",
    "\n",
    "# Show the first few rows of the final data without the specified columns\n",
    "final_data_without_columns.head()\n"
   ]
  }
 ],
 "metadata": {
  "language_info": {
   "name": "python"
  }
 },
 "nbformat": 4,
 "nbformat_minor": 2
}
