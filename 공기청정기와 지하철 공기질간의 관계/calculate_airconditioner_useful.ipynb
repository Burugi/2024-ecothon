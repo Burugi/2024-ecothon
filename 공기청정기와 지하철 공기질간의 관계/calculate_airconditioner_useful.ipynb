{
 "cells": [
  {
   "cell_type": "code",
   "execution_count": null,
   "metadata": {},
   "outputs": [],
   "source": [
    "# Load the new data from the provided CSV file\n",
    "new_file_path = '/mnt/data/4번_역별_공기질_위경도_공기청정기정보.csv'\n",
    "new_data = pd.read_csv(new_file_path)\n",
    "\n",
    "# Display the first few rows of the new dataset\n",
    "new_data.head()"
   ]
  },
  {
   "cell_type": "code",
   "execution_count": null,
   "metadata": {},
   "outputs": [],
   "source": [
    "# Display descriptive statistics for the new dataset\n",
    "new_data.describe()\n"
   ]
  },
  {
   "cell_type": "code",
   "execution_count": null,
   "metadata": {},
   "outputs": [],
   "source": [
    "# Define the revised classification function for 5 categories\n",
    "def classify_air_purifier_v3(row):\n",
    "    # Define thresholds for air purifier metrics (10%, 25%, 75%, 90% quantiles)\n",
    "    thresholds_air_purifier = {\n",
    "        '설치대수_x': [new_data['설치대수_x'].quantile(0.1), new_data['설치대수_x'].quantile(0.25), new_data['설치대수_x'].quantile(0.75), new_data['설치대수_x'].quantile(0.9)],\n",
    "        '적용면적_x': [new_data['적용면적_x'].quantile(0.1), new_data['적용면적_x'].quantile(0.25), new_data['적용면적_x'].quantile(0.75), new_data['적용면적_x'].quantile(0.9)],\n",
    "        '처리용량_x': [new_data['처리용량_x'].quantile(0.1), new_data['처리용량_x'].quantile(0.25), new_data['처리용량_x'].quantile(0.75), new_data['처리용량_x'].quantile(0.9)]\n",
    "    }\n",
    "    \n",
    "    # Define thresholds for air quality metrics (10%, 25%, 75%, 90% quantiles)\n",
    "    thresholds_air_quality = {\n",
    "        'PM10': [new_data['PM10'].quantile(0.1), new_data['PM10'].quantile(0.25), new_data['PM10'].quantile(0.75), new_data['PM10'].quantile(0.9)],\n",
    "        'PM2.5': [new_data['PM2.5'].quantile(0.1), new_data['PM2.5'].quantile(0.25), new_data['PM2.5'].quantile(0.75), new_data['PM2.5'].quantile(0.9)],\n",
    "        'CO2': [new_data['CO2'].quantile(0.1), new_data['CO2'].quantile(0.25), new_data['CO2'].quantile(0.75), new_data['CO2'].quantile(0.9)],\n",
    "        'HUMIDITY': [new_data['HUMIDITY'].quantile(0.1), new_data['HUMIDITY'].quantile(0.25), new_data['HUMIDITY'].quantile(0.75), new_data['HUMIDITY'].quantile(0.9)],\n",
    "        'AIRPRESSURE': [new_data['AIRPRESSURE'].quantile(0.1), new_data['AIRPRESSURE'].quantile(0.25), new_data['AIRPRESSURE'].quantile(0.75), new_data['AIRPRESSURE'].quantile(0.9)],\n",
    "        'TEMPERATURE': [new_data['TEMPERATURE'].quantile(0.1), new_data['TEMPERATURE'].quantile(0.25), new_data['TEMPERATURE'].quantile(0.75), new_data['TEMPERATURE'].quantile(0.9)]\n",
    "    }\n",
    "    \n",
    "    status = '적합'  # Default status\n",
    "    \n",
    "    for key in ['설치대수_x', '적용면적_x', '처리용량_x']:\n",
    "        if row[key] <= thresholds_air_purifier[key][0] and any(row[aq_key] > thresholds_air_quality[aq_key][3] for aq_key in thresholds_air_quality):\n",
    "            return '심각한 부족'\n",
    "        elif row[key] <= thresholds_air_purifier[key][1] and any(row[aq_key] > thresholds_air_quality[aq_key][2] for aq_key in thresholds_air_quality):\n",
    "            return '부족'\n",
    "        elif row[key] >= thresholds_air_purifier[key][3] and any(row[aq_key] < thresholds_air_quality[aq_key][0] for aq_key in thresholds_air_quality):\n",
    "            return '심각한 과잉'\n",
    "        elif row[key] >= thresholds_air_purifier[key][2] and any(row[aq_key] < thresholds_air_quality[aq_key][1] for aq_key in thresholds_air_quality):\n",
    "            return '과잉'\n",
    "    \n",
    "    return status\n",
    "\n",
    "# Apply the revised classification function to each row in the DataFrame\n",
    "new_data['공기청정기 효용 상태'] = new_data.apply(classify_air_purifier_v3, axis=1)\n",
    "\n",
    "import ace_tools as tools; tools.display_dataframe_to_user(name=\"Updated Air Purifier Efficiency Classification\", dataframe=new_data)\n",
    "\n",
    "# Display the first few rows to verify the new column\n",
    "new_data[['역명', '설치대수_x', '적용면적_x', '처리용량_x', 'PM10', 'PM2.5', 'CO2', 'HUMIDITY', 'AIRPRESSURE', 'TEMPERATURE', '공기청정기 효용 상태']].head()\n"
   ]
  },
  {
   "cell_type": "code",
   "execution_count": null,
   "metadata": {},
   "outputs": [],
   "source": [
    "# Remove duplicate rows based on all columns\n",
    "new_data_unique = new_data.drop_duplicates()\n",
    "\n",
    "import ace_tools as tools; tools.display_dataframe_to_user(name=\"Unique Air Purifier Efficiency Classification\", dataframe=new_data_unique)\n",
    "\n",
    "# Display the first few rows to verify the removal of duplicate rows\n",
    "new_data_unique.head()\n"
   ]
  }
 ],
 "metadata": {
  "language_info": {
   "name": "python"
  }
 },
 "nbformat": 4,
 "nbformat_minor": 2
}
